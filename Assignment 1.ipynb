{
 "cells": [
  {
   "cell_type": "code",
   "execution_count": 184,
   "metadata": {
    "collapsed": false,
    "nbpresent": {
     "id": "923cdd4a-03c6-477f-9a75-ce2c465a450a"
    },
    "scrolled": true
   },
   "outputs": [
    {
     "name": "stdout",
     "output_type": "stream",
     "text": [
      "Chapter One\n",
      "\n",
      "Mr. and Mrs. Dursley, of number four Privet drive, were proud to say that thay they were perfectly normal,\n",
      "thank you very much. They were the last people you'd expect \n",
      "to be involved in anything strange or mysteryious, because they just didn't hold with such nonsense.\n",
      "\n",
      "Mr. Dursley was the director of a firm called Grunnings, which made drills.\n",
      "He was a big, beefy man with hardly any neck, although he did have a very large mustache.\n",
      "Mrs. Dursley was thin and blonde and had nearly twice the usual amount of neck, which came in very useful as she spent so much of  her time craning over garden fences,  spying on the neighbors.\n",
      "The Dursleys had a small son called Dudley and in their opinion there was no finer boy anywhere.\n",
      "\n",
      "The Dursleys had everything they wanted, but they also had a secret, and their greatest fear was that somebody would discover it. They didn't think they could bear it if anyone found out about the Potters.\n",
      "Mrs. Potter was Mrs. Mrs. Dursley's  sister, but they hadn't met for several years;in fact, Mrs. Dursley pretended she didn't have a sister, because her\n"
     ]
    }
   ],
   "source": [
    "#in order to build the printed text, I'm using a loop to pull all the character I need from the holoalphabetic sentence\n",
    "    #below\n",
    "def build(pos_list):\n",
    "    input = \"the quick brown fox jumps over the lazy dog.':,;-\"\n",
    "    c = \"\"\n",
    "    for pos in pos_list: \n",
    "        c = c + input[pos]\n",
    "    return c\n",
    "\n",
    "\n",
    "#you won't know what's going to print until you run the script.\n",
    "#Below I've used the cipher to define the most used words in the text that's going to be printing\n",
    "\n",
    "a = build([22, 11, 43])\n",
    "b = build([22, 11, 24, 43])\n",
    "c = build([40, 5, 11, 24, 35, 2, 38])\n",
    "d = build([36, 14, 40])\n",
    "e = build([22, 7, 42, 41, 14, 36, 42, 36, 35, 35])\n",
    "f = build([1, 36, 11, 29, 38])\n",
    "g = build([23, 17, 31, 31, 33, 29])\n",
    "h = build([36, 35, 35])\n",
    "i = build([23, 11, 12, 7, 2, 24, 24])\n",
    "j = build([23, 22])\n",
    "k = build([36, 21, 14, 31])\n",
    "l = build([40, 5, 40, 35, 2, 38])\n",
    "m = build([23, 11, 12, 16, 2, 24, 24, 26, 29])\n",
    "n = build([24, 36, 6, 40])\n",
    "o = build([40, 5, 22, 10, 35, 2, 40, 17, 11, 33])\n",
    "p = build([10, 35, 36, 7, 8])\n",
    "q = build([3])\n",
    "r = build([23, 28, 17, 23, 35, 28])\n",
    "s = build([36, 10, 26, 5, 0])\n",
    "t = build([35, 26, 17, 8, 33, 40])\n",
    "u = build([24, 17, 22, 33, 31, 1, 6, 14, 42])\n",
    "v = build([10, 36, 7, 8])\n",
    "w = build([31, 32, 11, 26, 5, 42, 32])\n",
    "x = build([1, 28])\n",
    "y = build([7, 36, 0])\n",
    "z = build([40, 36, 11, 8])\n",
    "\n",
    "title0 = build([7, 1, 36, 23, 0, 33, 11]).title()\n",
    "title1 = build([3, 12, 14, 28]).title()\n",
    "\n",
    "sentence = a.title() + q + d + q + b.title() + q + c.title() + \",\" + q + \"of\" + q + build([14, 5, 22, 10, 2, 11]) + \\\n",
    "    q + build([16, 12, 5, 29]) + q + build([23, 29, 6, 27, 2, 0]).title() + q + build([40, 11, 6, 27, 28]) + \",\" + q\n",
    "#Mr. and Mrs. Dursley, of number four, Privet Drive,\n",
    "\n",
    "sentence1 = \"were\" + q + build([23, 11, 17, 21, 40]) + q + \"to \" + build([24, 36, 38]) + q + build([31, 1, 36, 0]) + \\\n",
    "    q + build([31, 1, 36, 38]) + q + build([31, 1, 2, 38]) + \" were\" + q + build([23, 2, 11, 16, 2, 7, 0, 35, 38]) + \\\n",
    "    q + build([14, 41, 29, 22, 36, 35]) +\",\"\n",
    "\n",
    "#were proud to say that they were perfectly normal,\n",
    "\n",
    "sentence2 = build([0, 1, 36, 14, 8, 3, 38, 12, 5, 3, 27, 2, 11, 38, 3, 22, 5, 7, 1, 43])\n",
    "#thank you very much. \n",
    "\n",
    "sentence3 = q + \"They \" + build([13, 2, 11, 2, 3]) + \"the \" + build([35, 36, 24, 0]) + q + r + \\\n",
    "    q + build([38, 26, 5])+ \"'\" + \"d\" + q + build([2, 18, 23, 2, 7, 0]) + q \n",
    "#they were the last people you’d expect\n",
    "\n",
    "sentence4 = \"to be \" + build([6, 14, 27, 12, 35, 27, 2, 40, 3]) + build([6, 14, 3]) + \\\n",
    "build([36, 14, 38, 0, 1, 6, 14, 42, 3]) + build([24, 0, 11, 36, 14, 42, 2, 3]) + build([12, 11]) + q + \\\n",
    "build([22, 38, 24, 31, 2, 11, 38, 6, 12, 5, 24]) + \",\" + q\n",
    "# to be involved in anything strange or mysterious,\n",
    "\n",
    "sentence5 = build([10, 2, 7, 36, 21, 24, 2]) + q + \"they \" + build([20, 5, 24, 0]) + q + build([40, 6, 40, 14]) + \"'t\" + \\\n",
    "    q + build([1, 12, 35, 40, 3]) + build([13, 6, 0, 1]) + q + build([24, 21, 7, 1]) + q + \\\n",
    "    build([14, 17, 14, 24, 2, 14, 24, 2, 43])\n",
    "\n",
    "#because they just didn’t hold with such nonsense.\n",
    "\n",
    "sentence6 = a.title() + q + c.title() + q + build([13, 36, 24]) + q + build([0, 1, 2]) + q + \\\n",
    "    build([40, 6, 11, 2, 7, 0, 12, 11]) + q + \"of\" + q + build([36, 39]) + build([16, 6, 11, 22, 3]) +\\\n",
    "    build([7, 36, 35, 35, 2, 40, 9]) + build([42, 11, 5, 14, 14, 6, 14, 42, 24]).title() + \", \"\n",
    "#Mr. Dursley was the director of a firm called Grunnings,\n",
    "\n",
    "sentence7 = build([13, 1, 6, 7, 1, 3]) + build([22, 36, 40, 2, 3]) + build([40, 11, 6, 35, 35, 24, 43])\n",
    "#which made drills.\n",
    "\n",
    "sentence8 = x.title() + q + build([13, 36, 24]) + q + \"a\" + q + build([10, 6, 42]) + \", \" + build([10, 2, 2, 16, 38]) \\\n",
    "    + q + build([22, 36, 14]) + q + build([13, 6, 0, 1]) + q + build([32, 36, 11, 40, 35, 38, 3]) + \"any \" + \\\n",
    "    build([14, 2, 7, 8]) + \", \"\n",
    "#He was a big, beefy man with hardly any neck, \n",
    "\n",
    "sentence9 = build([36, 35, 0, 1, 12, 21, 42, 1]) + q + x + q + build([40, 6, 40]) + q + \\\n",
    "    build([1, 36, 27, 2, 9, 36, 9, 27, 2, 11, 38, 3, 35, 36, 11, 42, 2, 9, 22, 21, 24, 31, 36, 7, 1, 2, 43])\n",
    "\n",
    "\n",
    "sentence10 =  b.title() + q + c.title() + q + build([13, 36, 24, 9, 0, 1, 6, 14, 9, 36, 14, 40, 9]) + \\\n",
    "build([10, 35, 12, 14, 40, 2, 3, 36, 14, 40, 3, 1, 36, 40, 3, 14, 2, 36, 11, 35, 38, 3, 31, 13, 6, 7, 2, 3, 31, 1, 2, 3, 5, 24, 5, 36, 35, 3, 36, 22, 12, 5, 14, 31, 3, 12, 16, 3, 14, 2, 7, 8]) + \", \"  \n",
    "\n",
    "sentence11 = build([13, 1, 6, 7, 1, 3, 7, 36, 22, 2, 3, 6, 14, 3, 27, 2, 11, 38, 3, 5, 24, 2, 16, 5, 35, 3, 36, 24, 3, 24, 1, 2, 3, 24, 23, 2, 14, 31, 3, 24, 12, 3, 22, 5, 7, 1, 3, 12, 16]) + q\n",
    "\n",
    "# which came in very useful as she spent so much of \n",
    "\n",
    "sentence12 = build([3, 1, 2, 11, 3, 31, 6, 22, 2, 3, 7, 11, 36, 14, 6, 14, 42, 3, 12, 27, 2, 11, 3, 42, 36, 11, 40, 2, 14, 3, 16, 2, 14, 7, 2, 24]) + \", \" + \\\n",
    "    build([3, 24, 23, 38, 6, 14, 42, 3, 12, 14, 3, 31, 1, 2, 3, 14, 2, 6, 42, 1, 10, 12, 11, 24, 43])\n",
    "# her time craning over garden fences, spying on the neighbors. \n",
    "\n",
    "sentence13 = \"The \" \n",
    "sentence14 = c.title() + \"s\"\n",
    "sentence15 = build([3, 1, 36, 40, 3, 36, 3, 24, 22, 36, 35, 35, 3, 24, 12, 14, 3, 7, 36, 35, 35, 2, 40, 3]) + l.title()\n",
    "#The Dursleys had a small son called Dudley\n",
    "\n",
    "sentence16 = build([9, 36, 14, 40, 3, 6, 14, 3, 31, 1, 2, 6, 11, 3, 12, 23, 6, 14, 6, 12, 14, 3, 31, 1, 2, 11, 2, 3, 13, 36, 24, 3, 14, 12, 3, 16, 6, 14, 2, 11, 3, 10, 12, 38, 3, 36, 14, 38, 13, 1, 2, 11, 2, 43])\n",
    "#and in their opinion there was no finer boy anywhere.\n",
    "\n",
    "sentence17= build([3, 1, 36, 40, 3, 2, 27, 2, 11, 38, 31, 1, 6, 14, 42, 3, 31, 1, 2, 38, 3, 13, 36, 14, 31, 2, 40]) + \",\" + \\\n",
    "build([3, 10, 5, 31, 3, 31, 1, 2, 38, 3, 36, 35, 24, 12, 3, 1, 36, 40, 3, 36, 3, 24, 2, 7, 11, 2, 31]) + \",\" + \\\n",
    "build([3, 36, 14, 40, 3, 31, 1, 2, 6, 11, 3, 42, 11, 2, 36, 31, 2, 24, 31, 3, 16, 2, 36, 11, 3, 13, 36, 24, 3, 31, 1, 36, 31, 3, 24, 12, 22, 2, 10, 12, 40, 38, 3, 13, 12, 5, 35, 40, 3, 40, 6, 24, 7, 12, 27, 2, 11, 3, 6, 31, 43])\n",
    "\n",
    "#The Dursleys had everything they wanted, but they also had a\n",
    "#and their greatest fear was that somebody would discover it. \n",
    "\n",
    "sentence18 = \" They didn't \" + build([31, 1, 6, 14, 8, 3, 31, 1, 2, 38, 3, 7, 12, 5, 35, 40, 3, 10, 2, 36, 11, 3, 6, 31, 3, 6, 16, 3, 36, 14, 38, 12, 14, 2, 3, 16, 12, 5, 14, 40, 3, 12, 5, 31, 3, 36, 10, 12, 5, 31, 3, 31, 1, 2, 3]) + g.title() + \"s.\" \n",
    "#They didn't think they could bear it if anyone found out about the Potters. \n",
    "\n",
    "sentence19 = b.title() + q + g.title() + \" was \" + b.title() + q + b.title() + q + c.title() + \"'s \" + build([3, 24, 6, 24, 31, 2, 11]) + \", \" + \\\n",
    "    build([10, 5, 31, 3, 31, 1, 2, 38, 3, 1, 36, 40, 14, 44, 31, 3, 22, 2, 31, 3, 16, 12, 11, 3, 24, 2, 27, 2, 11, 36, 35, 3, 38, 2, 36, 11, 24, 47])\n",
    "    #Mrs. Potter was Mrs. Dursley's sister, but they hadn't met for several years;\n",
    "\n",
    "sentence20 = build([6, 14, 3, 16, 36, 7, 31, 46, 3]) + b.title() + q + c.title() + build([3, 23, 11, 2, 0, 2, 14, 40, 2, 40, 3, 24, 1, 2, 3, 40, 6, 40, 14, 44, 0, 3, 1, 36, 27, 2, 3, 36, 3, 24, 6, 24, 0, 2, 11, 46, 3, 10, 2, 7, 36, 5, 24, 2, 3, 1, 2, 11])\n",
    "    #in fact, Mrs. Dursley pretended she didn't have a sister, because her\n",
    "#sister and her good-for-nothing husband were as unDursleyish as it was\n",
    "#possible to be. The Dursleys shuddered to think what the neighbors would\n",
    "#say if the Potters arrived in the street. The Dursleys knew that the\n",
    "#Potters had a small son, too, but they had never even seen him. This boy\n",
    "#was another good reason for keeping the Potters away; they didn't want\n",
    "#Dudley mixing with a child like that.\n",
    "\n",
    "\n",
    "\n",
    "# The next ten or so print functions are going to be the first type of concatenation\n",
    "\n",
    "print(title0 + title1)\n",
    "print()\n",
    "print(sentence + sentence1)\n",
    "print(sentence2 + sentence3)   \n",
    "print(sentence4 + sentence5)\n",
    "print()\n",
    "print(sentence6 + sentence7)\n",
    "print(sentence8 + sentence9)\n",
    "print(sentence10 + sentence11 + sentence12)\n",
    "print(sentence13 + sentence14 + sentence15 + sentence16)\n",
    "print()\n",
    "print(sentence13 + sentence14 + sentence17 + sentence18)\n",
    "print(sentence19 + sentence20)\n",
    "#now the next type\n",
    "print()\n"
   ]
  },
  {
   "cell_type": "code",
   "execution_count": 182,
   "metadata": {
    "collapsed": false,
    "nbpresent": {
     "id": "44bdc795-8891-4d71-b294-aec767cd10e3"
    }
   },
   "outputs": [
    {
     "name": "stdout",
     "output_type": "stream",
     "text": [
      "[3, 23, 11, 2, 0, 2, 14, 40, 2, 40, 3, 24, 1, 2, 3, 40, 6, 40, 14, 44, 0, 3, 1, 36, 27, 2, 3, 36, 3, 24, 6, 24, 0, 2, 11, 46, 3, 10, 2, 7, 36, 5, 24, 2, 3, 1, 2, 11]\n"
     ]
    }
   ],
   "source": [
    "input = \"the quick brown fox jumps over the lazy dog.':,;-\"\n",
    "#This is the cipher. Because I'm feeling particarly bored, you won't know what's going to print until you run the script.\n",
    "#Below I've used the cypher to define the most used words in the text that's going to be printing, using the cypher\n",
    "#for pos, ch in enumerate(input):\n",
    "    #print(pos, ch)\n",
    "    \n",
    "word = \" pretended she didn't have a sister, because her\"\n",
    "positions = []\n",
    "for ch in word:\n",
    "   positions.append(input.index(ch))\n",
    "print(positions)\n",
    "\n",
    "    "
   ]
  },
  {
   "cell_type": "code",
   "execution_count": null,
   "metadata": {
    "collapsed": false
   },
   "outputs": [],
   "source": [
    "\n"
   ]
  },
  {
   "cell_type": "code",
   "execution_count": null,
   "metadata": {
    "collapsed": true
   },
   "outputs": [],
   "source": []
  }
 ],
 "metadata": {
  "anaconda-cloud": {
   "attach-environment": false,
   "summary": "ENVS 423 concatenation assignment"
  },
  "kernelspec": {
   "display_name": "Python [conda env:anaconda]",
   "language": "python",
   "name": "conda-env-anaconda-py"
  },
  "language_info": {
   "codemirror_mode": {
    "name": "ipython",
    "version": 3
   },
   "file_extension": ".py",
   "mimetype": "text/x-python",
   "name": "python",
   "nbconvert_exporter": "python",
   "pygments_lexer": "ipython3",
   "version": "3.5.5"
  }
 },
 "nbformat": 4,
 "nbformat_minor": 2
}
