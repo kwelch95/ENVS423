{
 "cells": [
  {
   "cell_type": "code",
   "execution_count": 1,
   "metadata": {},
   "outputs": [
    {
     "name": "stdout",
     "output_type": "stream",
     "text": [
      "Enter your age to see if you can vote!\n",
      "How old are you? 22\n",
      "Congratulations, go register to vote!\n"
     ]
    }
   ],
   "source": [
    "print(\"Enter your age to see if you can vote!\")\n",
    "age = int(input(\"How old are you? \"))\n",
    "if age >= 18:\n",
    "    print(\"Congratulations, go register to vote!\")\n",
    "else:\n",
    "    print(\"I'm sorry, you are too young to vote.\")"
   ]
  },
  {
   "cell_type": "code",
   "execution_count": 2,
   "metadata": {},
   "outputs": [
    {
     "name": "stdout",
     "output_type": "stream",
     "text": [
      "Input a number between 1 and 20  -12\n",
      "No, you are wrong. That number is not between 1 and 20!\n"
     ]
    }
   ],
   "source": [
    "number = int(input(\"Input a number between 1 and 20  \"))\n",
    "if number >= 20:\n",
    "    print(\"No, you are wrong. That number is larger than 20!\")\n",
    "elif number <= 1:\n",
    "    print(\"No, you are wrong. That number is not between 1 and 20!\")\n",
    "else:\n",
    "    print(\"Yes, that is in fact a number between 1 and 20!\")"
   ]
  },
  {
   "cell_type": "code",
   "execution_count": 3,
   "metadata": {},
   "outputs": [
    {
     "name": "stdout",
     "output_type": "stream",
     "text": [
      "Enter the name of Team 1 The Timbers\n",
      "Enter how many points Team 1 got 2\n",
      "Enter the name of Team 2 Orlando City\n",
      "Enter how many points Team 1 got3\n",
      "Orlando City won! They get 3 points, and The Timbers get 0 points!\n"
     ]
    }
   ],
   "source": [
    "team1 = input(\"Enter the name of Team 1 \")\n",
    "team1score = int(input(\"Enter how many points Team 1 got \"))\n",
    "\n",
    "team2 = input(\"Enter the name of Team 2 \")\n",
    "team2score = int(input(\"Enter how many points Team 1 got\"))\n",
    "\n",
    "if team1score == team2score:\n",
    "    print(\"The game was a tie. Each team gets 1 point. \")\n",
    "elif team1score > team2score:\n",
    "    print(team1 + \" won! They get 3 points, and \" + team2 + \" get 0 points!\")\n",
    "else:\n",
    "    print(team2 + \" won! They get 3 points, and \" + team1 + \" get 0 points!\")"
   ]
  },
  {
   "cell_type": "code",
   "execution_count": null,
   "metadata": {},
   "outputs": [],
   "source": []
  },
  {
   "cell_type": "code",
   "execution_count": null,
   "metadata": {},
   "outputs": [],
   "source": []
  }
 ],
 "metadata": {
  "kernelspec": {
   "display_name": "Python [default]",
   "language": "python",
   "name": "python3"
  },
  "language_info": {
   "codemirror_mode": {
    "name": "ipython",
    "version": 3
   },
   "file_extension": ".py",
   "mimetype": "text/x-python",
   "name": "python",
   "nbconvert_exporter": "python",
   "pygments_lexer": "ipython3",
   "version": "3.5.5"
  }
 },
 "nbformat": 4,
 "nbformat_minor": 2
}
