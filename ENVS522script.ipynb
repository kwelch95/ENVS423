{
 "cells": [
  {
   "cell_type": "code",
   "execution_count": null,
   "metadata": {},
   "outputs": [],
   "source": [
    "def calc(aspect, slope, elevation)\n",
    "    if aspect = \"N\" \n",
    "        if slope < 5:\n",
    "            if elevation < 300:\n",
    "                return \"N-F-L\"\n",
    "            elif elevation < 600:\n",
    "                return \"N-F-LM\"\n",
    "            elif elevation < 900:\n",
    "                return \"N-F-HM\"\n",
    "            elif elevation < 1200:\n",
    "                return \"N-F-H\"\n",
    "            else:\n",
    "                return \"disqualified\"\n",
    "        elif slope < 30:\n",
    "            return \"N-S-L\"\n",
    "        else:\n",
    "            return \"N-S-LM\"\n",
    "        elif slope <\n",
    "        else: "
   ]
  }
 ],
 "metadata": {
  "kernelspec": {
   "display_name": "Python [default]",
   "language": "python",
   "name": "python3"
  },
  "language_info": {
   "codemirror_mode": {
    "name": "ipython",
    "version": 3
   },
   "file_extension": ".py",
   "mimetype": "text/x-python",
   "name": "python",
   "nbconvert_exporter": "python",
   "pygments_lexer": "ipython3",
   "version": "3.5.5"
  }
 },
 "nbformat": 4,
 "nbformat_minor": 2
}
